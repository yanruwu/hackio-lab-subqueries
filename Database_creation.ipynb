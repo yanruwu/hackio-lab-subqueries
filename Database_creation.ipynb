{
 "cells": [
  {
   "cell_type": "code",
   "execution_count": 11,
   "metadata": {},
   "outputs": [],
   "source": [
    "import pandas as pd\n",
    "\n",
    "import psycopg2\n",
    "from psycopg2 import errorcodes, OperationalError"
   ]
  },
  {
   "cell_type": "code",
   "execution_count": 12,
   "metadata": {},
   "outputs": [],
   "source": [
    "df_aemet = pd.read_csv(\"datos/df_aemet_merged.csv\", index_col=0)\n",
    "df_places = pd.read_csv(\"datos/df_places_indexed.csv\", index_col=0)\n",
    "df_municipios = pd.read_csv(\"datos/df_municipios.csv\", index_col=0)"
   ]
  },
  {
   "cell_type": "code",
   "execution_count": 13,
   "metadata": {},
   "outputs": [],
   "source": [
    "df_places.drop(df_places[df_places[\"fsq_id\"].duplicated()].index, inplace = True)"
   ]
  },
  {
   "cell_type": "code",
   "execution_count": 14,
   "metadata": {},
   "outputs": [],
   "source": [
    "def conectar():\n",
    "    try:\n",
    "        connection = psycopg2.connect(\n",
    "            database = \"AEMET-lab\",\n",
    "            user = \"postgres\",\n",
    "            password = \"admin\",\n",
    "            host = \"localhost\",\n",
    "            port = \"5432\"\n",
    "        )\n",
    "    except OperationalError as e:\n",
    "        if e.pgcode == errorcodes.INVALID_PASSWORD:\n",
    "            print(\"La constraseña es errónea.\")\n",
    "        elif e.pgcode == errorcodes.CONNECTION_EXCEPTION:\n",
    "            print(\"Error de conexión\")\n",
    "        else:\n",
    "            print(f'Error:{e}')\n",
    "    return connection\n",
    "\n",
    "def query_fetch(connection, query_text):\n",
    "    cursor = connection.cursor()\n",
    "    cursor.execute(query_text)\n",
    "    result = cursor.fetchall()\n",
    "    cursor.close()\n",
    "    connection.close()\n",
    "    return result\n",
    "\n",
    "def query_commit(connection, query_text, *valores):\n",
    "    cursor = connection.cursor()\n",
    "    cursor.execute(query_text, *valores)\n",
    "    connection.commit()\n",
    "    cursor.close()\n",
    "    connection.close()\n",
    "    return print(\"Done!\")\n",
    "\n",
    "def query_commit_many(connection, query_text, *valores):\n",
    "    cursor = connection.cursor()\n",
    "    cursor.executemany(query_text, *valores)\n",
    "    connection.commit()\n",
    "    cursor.close()\n",
    "    connection.close()\n",
    "    return print(\"Done!\")"
   ]
  },
  {
   "cell_type": "code",
   "execution_count": 15,
   "metadata": {},
   "outputs": [
    {
     "name": "stdout",
     "output_type": "stream",
     "text": [
      "Done!\n"
     ]
    }
   ],
   "source": [
    "conexion = conectar()\n",
    "\n",
    "query_tables = '''\n",
    "CREATE TABLE IF NOT EXISTS municipios(\n",
    "id_municipio VARCHAR(100) primary key, \n",
    "latitude DECIMAL(10,5),\n",
    "longitude DECIMAL(10,5), \n",
    "nombre VARCHAR(100) unique not null\n",
    ");\n",
    "\n",
    "CREATE TABLE IF NOT EXISTS daystages(\n",
    "id_daystage VARCHAR(100) primary key, \n",
    "descripcion TEXT\n",
    ");\n",
    "\n",
    "CREATE TABLE IF NOT EXISTS lugares(\n",
    "id_lugar VARCHAR(100) primary key, \n",
    "latitude DECIMAL(10,5),\n",
    "longitude DECIMAL(10,5), \n",
    "nombre VARCHAR(100) not null,\n",
    "categoria VARCHAR(100),\n",
    "closed_bucket VARCHAR(100),\n",
    "distancia DECIMAL(10,2),\n",
    "direccion VARCHAR(300),\n",
    "link VARCHAR(300),\n",
    "id_municipio VARCHAR(100) not null,\n",
    "foreign key (id_municipio)\n",
    "    references municipios(id_municipio)\n",
    ");\n",
    "\n",
    "CREATE TABLE IF NOT EXISTS tiempo(\n",
    "id_tiempo serial primary key,\n",
    "fecha DATE,\n",
    "cielo VARCHAR(200),\n",
    "temperatura DECIMAL(5,2),\n",
    "sens_térmica DECIMAL(5,2),\n",
    "humedad_rel DECIMAL(10,2),\n",
    "precipitacion DECIMAL(10,2),\n",
    "prob_precip VARCHAR(200),\n",
    "nieve DECIMAL(10,2),\n",
    "prob_nieve VARCHAR(100),\n",
    "prob_tormenta VARCHAR(200),\n",
    "vel_viento DECIMAL(10,2),\n",
    "racha_max DECIMAL(10,2),\n",
    "dir_viento VARCHAR(100),\n",
    "id_daystage VARCHAR(100),\n",
    "id_municipio VARCHAR(100),\n",
    "foreign key (ID_daystage)\n",
    "    references daystages(id_daystage),\n",
    "foreign key (id_municipio)\n",
    "    references municipios(id_municipio)\n",
    ");\n",
    "'''\n",
    "\n",
    "query_commit(conexion, query_tables)"
   ]
  },
  {
   "cell_type": "code",
   "execution_count": 16,
   "metadata": {},
   "outputs": [],
   "source": [
    "ds_ids = [\"madrugada\", \"mediodia\", \"tarde\", \"noche\"]\n",
    "ds_desc = ['''\n",
    "            Momento de quietud y calma previa al amanecer, ideal para capturar escenas \n",
    "           nocturnas profundas o el inicio de un nuevo día con los primeros rayos del sol. \n",
    "           La luz tenue y la atmósfera tranquila crean una estética única.\n",
    "           ''',\n",
    "           '''\n",
    "            La luz es intensa y directa, lo que genera sombras marcadas. \n",
    "            Perfecto para exteriores vibrantes y escenas dinámicas bajo el sol pleno, \n",
    "            aunque puede requerir control de iluminación para evitar reflejos no deseados.\n",
    "            ''',\n",
    "            '''\n",
    "            Luz suave y cálida que comienza a caer, lo que permite transiciones dramáticas en las escenas. \n",
    "            Ideal para capturar la \"hora dorada\", donde los tonos anaranjados y rosados dominan, \n",
    "            agregando calidez y profundidad a las tomas.\n",
    "            ''',\n",
    "            '''\n",
    "            Ambiente oscuro, dominado por luces artificiales o naturales como la luna. \n",
    "            Propicio para escenas misteriosas o íntimas, \n",
    "            donde la iluminación es clave para generar efectos atmosféricos o dramáticos.\n",
    "            '''      \n",
    "           ]\n",
    "\n",
    "ds_vals = []\n",
    "for id, desc in zip(ds_ids, ds_desc):\n",
    "    ds_vals.append((id, desc))"
   ]
  },
  {
   "cell_type": "code",
   "execution_count": 17,
   "metadata": {},
   "outputs": [
    {
     "name": "stdout",
     "output_type": "stream",
     "text": [
      "Done!\n"
     ]
    }
   ],
   "source": [
    "query_values_daystages = '''insert into daystages(id_daystage, descripcion)\n",
    "                            values (%s,%s)'''\n",
    "\n",
    "conexion = conectar()\n",
    "query_commit_many(conexion, query_values_daystages, ds_vals)"
   ]
  },
  {
   "cell_type": "code",
   "execution_count": 18,
   "metadata": {},
   "outputs": [
    {
     "data": {
      "text/html": [
       "<div>\n",
       "<style scoped>\n",
       "    .dataframe tbody tr th:only-of-type {\n",
       "        vertical-align: middle;\n",
       "    }\n",
       "\n",
       "    .dataframe tbody tr th {\n",
       "        vertical-align: top;\n",
       "    }\n",
       "\n",
       "    .dataframe thead th {\n",
       "        text-align: right;\n",
       "    }\n",
       "</style>\n",
       "<table border=\"1\" class=\"dataframe\">\n",
       "  <thead>\n",
       "    <tr style=\"text-align: right;\">\n",
       "      <th></th>\n",
       "      <th>municipio_id</th>\n",
       "      <th>latitude</th>\n",
       "      <th>longitude</th>\n",
       "      <th>nombre</th>\n",
       "    </tr>\n",
       "  </thead>\n",
       "  <tbody>\n",
       "    <tr>\n",
       "      <th>0</th>\n",
       "      <td>acebeda-la</td>\n",
       "      <td>41.086958</td>\n",
       "      <td>-3.624399</td>\n",
       "      <td>La Acebeda</td>\n",
       "    </tr>\n",
       "  </tbody>\n",
       "</table>\n",
       "</div>"
      ],
      "text/plain": [
       "  municipio_id   latitude  longitude      nombre\n",
       "0   acebeda-la  41.086958  -3.624399  La Acebeda"
      ]
     },
     "execution_count": 18,
     "metadata": {},
     "output_type": "execute_result"
    }
   ],
   "source": [
    "df_municipios.head(1)"
   ]
  },
  {
   "cell_type": "code",
   "execution_count": 19,
   "metadata": {},
   "outputs": [
    {
     "name": "stdout",
     "output_type": "stream",
     "text": [
      "Done!\n"
     ]
    }
   ],
   "source": [
    "query_values_municipios = '''insert into municipios(id_municipio, latitude, longitude, nombre)\n",
    "                                values (%s,%s,%s,%s)'''\n",
    "\n",
    "m_ids = df_municipios[\"municipio_id\"].values\n",
    "m_lats = df_municipios[\"latitude\"].values\n",
    "m_long = df_municipios[\"longitude\"].values\n",
    "m_name = df_municipios[\"nombre\"].values\n",
    "\n",
    "m_values = []\n",
    "for i,la,lo,na in zip(m_ids, m_lats, m_long, m_name):\n",
    "    m_values.append((i,la,lo,na))\n",
    "\n",
    "conexion = conectar()\n",
    "query_commit_many(conexion, query_values_municipios, m_values)"
   ]
  },
  {
   "cell_type": "code",
   "execution_count": 20,
   "metadata": {},
   "outputs": [
    {
     "name": "stdout",
     "output_type": "stream",
     "text": [
      "('ajalvir', 'Park', '4d3c6c5b84d46ea87dddfd5c', 'LikelyOpen', 563.0, '/v3/places/4d3c6c5b84d46ea87dddfd5c', 'Diverjungla', 'Calle Segovia, 20 (Pol. Ind. Donada), 28864 Ajalvir Comunidad de Madrid', 40.529921, -3.484341)\n"
     ]
    }
   ],
   "source": [
    "lista_tuplas = []\n",
    "for val in df_places.values:\n",
    "    lista_tuplas.append(tuple(val))\n",
    "\n",
    "print(lista_tuplas[0])"
   ]
  },
  {
   "cell_type": "code",
   "execution_count": 21,
   "metadata": {},
   "outputs": [
    {
     "name": "stdout",
     "output_type": "stream",
     "text": [
      "Done!\n"
     ]
    }
   ],
   "source": [
    "query_values_lugares = '''insert into lugares(id_municipio, categoria, id_lugar, closed_bucket, distancia, link, nombre, direccion, latitude, longitude)\n",
    "                                values (%s,%s,%s,%s,%s,%s,%s,%s,%s,%s)'''\n",
    "\n",
    "conexion = conectar()\n",
    "query_commit_many(conexion, query_values_lugares, lista_tuplas)"
   ]
  },
  {
   "cell_type": "code",
   "execution_count": 22,
   "metadata": {},
   "outputs": [
    {
     "name": "stdout",
     "output_type": "stream",
     "text": [
      "[('id_tiempo',), ('fecha',), ('cielo',), ('temperatura',), ('sens_térmica',), ('humedad_rel',), ('precipitacion',), ('prob_precip',), ('nieve',), ('prob_nieve',), ('prob_tormenta',), ('vel_viento',), ('racha_max',), ('dir_viento',), ('id_daystage',), ('id_municipio',)]\n"
     ]
    }
   ],
   "source": [
    "conexion = conectar()\n",
    "print(query_fetch(conexion, '''\n",
    "                        SELECT column_name\n",
    "                        FROM INFORMATION_SCHEMA.COLUMNS\n",
    "                        WHERE TABLE_NAME = 'tiempo'\n",
    "                    '''))"
   ]
  },
  {
   "cell_type": "code",
   "execution_count": 23,
   "metadata": {},
   "outputs": [
    {
     "name": "stdout",
     "output_type": "stream",
     "text": [
      "('acebeda-la', '2024-08-29', 'mediodia', 'Nubes altas', 'Muy alta', 'Baja', 'Alta', 'S', 21.0, 21.0, 25.0, 0.0, 0.0, 69.0, 7.0)\n"
     ]
    }
   ],
   "source": [
    "lista_tuplas = []\n",
    "for val in df_aemet.values:\n",
    "    lista_tuplas.append(tuple(val))\n",
    "print(lista_tuplas[0])"
   ]
  },
  {
   "cell_type": "code",
   "execution_count": 24,
   "metadata": {},
   "outputs": [
    {
     "name": "stdout",
     "output_type": "stream",
     "text": [
      "Done!\n"
     ]
    }
   ],
   "source": [
    "query_values_tiempo = '''insert into tiempo(id_municipio, fecha, id_daystage, cielo, prob_precip, prob_nieve, prob_tormenta, dir_viento, temperatura, sens_térmica, racha_max, precipitacion, nieve, humedad_rel, vel_viento )\n",
    "                                values (%s,%s,%s,%s,%s,%s,%s,%s,%s,%s,%s,%s,%s,%s,%s)'''\n",
    "\n",
    "conexion = conectar()\n",
    "query_commit_many(conexion,query_values_tiempo, lista_tuplas)"
   ]
  },
  {
   "cell_type": "markdown",
   "metadata": {},
   "source": [
    "### 1.¿Cuáles son los lugares con la menor probabilidad de tormenta durante la tarde del 30 de agosto de 2024?\n",
    "\n",
    "Para asegurar rodajes al aire libre sin riesgos climáticos en esa fecha específica."
   ]
  },
  {
   "cell_type": "code",
   "execution_count": 25,
   "metadata": {},
   "outputs": [
    {
     "data": {
      "text/plain": [
       "[]"
      ]
     },
     "execution_count": 25,
     "metadata": {},
     "output_type": "execute_result"
    }
   ],
   "source": [
    "query = '''\n",
    "        select m.nombre from municipios m \n",
    "        where m.id_municipio in (select id_municipio from tiempo t\n",
    "\t\t\t\t\t\t\twhere t.fecha = '2024-08-30' \n",
    "\t\t\t\t\t\t\tand t.id_daystage = 'tarde' \n",
    "\t\t\t\t\t\t\tand t.prob_tormenta in ('Baja'));\n",
    "        '''\n",
    "\n",
    "conexion = conectar()\n",
    "query_fetch(conexion, query)"
   ]
  },
  {
   "cell_type": "markdown",
   "metadata": {},
   "source": [
    "No hay ningún municipio con prob tormenta baja, probemos con media."
   ]
  },
  {
   "cell_type": "code",
   "execution_count": 26,
   "metadata": {},
   "outputs": [
    {
     "name": "stdout",
     "output_type": "stream",
     "text": [
      "54\n"
     ]
    },
    {
     "data": {
      "text/html": [
       "<div>\n",
       "<style scoped>\n",
       "    .dataframe tbody tr th:only-of-type {\n",
       "        vertical-align: middle;\n",
       "    }\n",
       "\n",
       "    .dataframe tbody tr th {\n",
       "        vertical-align: top;\n",
       "    }\n",
       "\n",
       "    .dataframe thead th {\n",
       "        text-align: right;\n",
       "    }\n",
       "</style>\n",
       "<table border=\"1\" class=\"dataframe\">\n",
       "  <thead>\n",
       "    <tr style=\"text-align: right;\">\n",
       "      <th></th>\n",
       "      <th>0</th>\n",
       "    </tr>\n",
       "  </thead>\n",
       "  <tbody>\n",
       "    <tr>\n",
       "      <th>32</th>\n",
       "      <td>Brunete</td>\n",
       "    </tr>\n",
       "    <tr>\n",
       "      <th>10</th>\n",
       "      <td>Daganzo de Arriba</td>\n",
       "    </tr>\n",
       "    <tr>\n",
       "      <th>12</th>\n",
       "      <td>San Sebastián de los Reyes</td>\n",
       "    </tr>\n",
       "  </tbody>\n",
       "</table>\n",
       "</div>"
      ],
      "text/plain": [
       "                             0\n",
       "32                     Brunete\n",
       "10           Daganzo de Arriba\n",
       "12  San Sebastián de los Reyes"
      ]
     },
     "execution_count": 26,
     "metadata": {},
     "output_type": "execute_result"
    }
   ],
   "source": [
    "query = '''\n",
    "        select m.nombre from municipios m \n",
    "        where m.id_municipio in (select id_municipio from tiempo t\n",
    "\t\t\t\t\t\t\twhere t.fecha = '2024-08-30' \n",
    "\t\t\t\t\t\t\tand t.id_daystage = 'tarde' \n",
    "\t\t\t\t\t\t\tand t.prob_tormenta in ('Media'));\n",
    "        '''\n",
    "\n",
    "conexion = conectar()\n",
    "df_1 = pd.DataFrame(query_fetch(conexion, query))\n",
    "print(df_1.shape[0])\n",
    "df_1.sample(3)"
   ]
  },
  {
   "cell_type": "markdown",
   "metadata": {},
   "source": [
    "Hay 54 municipios que tenían probabilidad baja."
   ]
  },
  {
   "cell_type": "markdown",
   "metadata": {},
   "source": [
    "También podemos hacerlo sin anidar:"
   ]
  },
  {
   "cell_type": "code",
   "execution_count": 27,
   "metadata": {},
   "outputs": [
    {
     "data": {
      "text/html": [
       "<div>\n",
       "<style scoped>\n",
       "    .dataframe tbody tr th:only-of-type {\n",
       "        vertical-align: middle;\n",
       "    }\n",
       "\n",
       "    .dataframe tbody tr th {\n",
       "        vertical-align: top;\n",
       "    }\n",
       "\n",
       "    .dataframe thead th {\n",
       "        text-align: right;\n",
       "    }\n",
       "</style>\n",
       "<table border=\"1\" class=\"dataframe\">\n",
       "  <thead>\n",
       "    <tr style=\"text-align: right;\">\n",
       "      <th></th>\n",
       "      <th>0</th>\n",
       "      <th>1</th>\n",
       "    </tr>\n",
       "  </thead>\n",
       "  <tbody>\n",
       "    <tr>\n",
       "      <th>0</th>\n",
       "      <td>Ajalvir</td>\n",
       "      <td>Media</td>\n",
       "    </tr>\n",
       "    <tr>\n",
       "      <th>1</th>\n",
       "      <td>El Álamo</td>\n",
       "      <td>Media</td>\n",
       "    </tr>\n",
       "    <tr>\n",
       "      <th>2</th>\n",
       "      <td>Alcobendas</td>\n",
       "      <td>Media</td>\n",
       "    </tr>\n",
       "    <tr>\n",
       "      <th>3</th>\n",
       "      <td>Aldea del Fresno</td>\n",
       "      <td>Media</td>\n",
       "    </tr>\n",
       "    <tr>\n",
       "      <th>4</th>\n",
       "      <td>Batres</td>\n",
       "      <td>Media</td>\n",
       "    </tr>\n",
       "  </tbody>\n",
       "</table>\n",
       "</div>"
      ],
      "text/plain": [
       "                  0      1\n",
       "0           Ajalvir  Media\n",
       "1          El Álamo  Media\n",
       "2        Alcobendas  Media\n",
       "3  Aldea del Fresno  Media\n",
       "4            Batres  Media"
      ]
     },
     "execution_count": 27,
     "metadata": {},
     "output_type": "execute_result"
    }
   ],
   "source": [
    "query = '''\n",
    "        select m.nombre, t.prob_tormenta from municipios m \n",
    "        inner join tiempo t on t.id_municipio = m.id_municipio \n",
    "        where t.id_daystage = 'tarde' and t.fecha = '2024-08-30' and t.prob_tormenta = 'Media';\n",
    "        '''\n",
    "conexion = conectar()\n",
    "df_11 = pd.DataFrame(query_fetch(conexion, query))\n",
    "\n",
    "df_11.head()"
   ]
  },
  {
   "cell_type": "markdown",
   "metadata": {},
   "source": [
    "### 2.¿Qué municipios tienen temperaturas por debajo de la mediana de temperatura de todos los municipios en la noche del 29 de agosto de 2024?\n",
    "Para identificar ubicaciones con climas fríos en la noche de esa fecha."
   ]
  },
  {
   "cell_type": "code",
   "execution_count": 28,
   "metadata": {},
   "outputs": [
    {
     "data": {
      "text/html": [
       "<div>\n",
       "<style scoped>\n",
       "    .dataframe tbody tr th:only-of-type {\n",
       "        vertical-align: middle;\n",
       "    }\n",
       "\n",
       "    .dataframe tbody tr th {\n",
       "        vertical-align: top;\n",
       "    }\n",
       "\n",
       "    .dataframe thead th {\n",
       "        text-align: right;\n",
       "    }\n",
       "</style>\n",
       "<table border=\"1\" class=\"dataframe\">\n",
       "  <thead>\n",
       "    <tr style=\"text-align: right;\">\n",
       "      <th></th>\n",
       "      <th>0</th>\n",
       "    </tr>\n",
       "  </thead>\n",
       "  <tbody>\n",
       "    <tr>\n",
       "      <th>13</th>\n",
       "      <td>Chinchón</td>\n",
       "    </tr>\n",
       "    <tr>\n",
       "      <th>26</th>\n",
       "      <td>Moraleja de Enmedio</td>\n",
       "    </tr>\n",
       "    <tr>\n",
       "      <th>79</th>\n",
       "      <td>Boadilla del Monte</td>\n",
       "    </tr>\n",
       "    <tr>\n",
       "      <th>77</th>\n",
       "      <td>Navacerrada</td>\n",
       "    </tr>\n",
       "    <tr>\n",
       "      <th>53</th>\n",
       "      <td>Robledo de Chavela</td>\n",
       "    </tr>\n",
       "  </tbody>\n",
       "</table>\n",
       "</div>"
      ],
      "text/plain": [
       "                      0\n",
       "13             Chinchón\n",
       "26  Moraleja de Enmedio\n",
       "79   Boadilla del Monte\n",
       "77          Navacerrada\n",
       "53   Robledo de Chavela"
      ]
     },
     "execution_count": 28,
     "metadata": {},
     "output_type": "execute_result"
    }
   ],
   "source": [
    "query = '''\n",
    "select m.nombre from municipios m \n",
    "where m.id_municipio in (select id_municipio from tiempo t \n",
    "\t\t\t\t\t\t\twhere t.fecha = '2024-08-29'\n",
    "\t\t\t\t\t\t\tand t.id_daystage = 'noche'\n",
    "\t\t\t\t\t\t\tand t.temperatura < (select percentile_cont(0.5) \n",
    "\t\t\t\t\t\t\t\t\t\t\t\twithin group(order by temperatura) \n",
    "\t\t\t\t\t\t\t\t\t\t\t\tfrom tiempo));\n",
    "                                                '''\n",
    "conexion = conectar()\n",
    "df_2 = pd.DataFrame(query_fetch(conexion, query))\n",
    "\n",
    "df_2.sample(5)"
   ]
  },
  {
   "cell_type": "markdown",
   "metadata": {},
   "source": [
    "### 3.¿En qué municipios la velocidad del viento ha sido superior a la velocidad promedio de todos los municipios durante el día 31 de agosto de 2024?\n",
    "\n",
    "Para evitar filmaciones en lugares donde los fuertes vientos pueden ser un problema."
   ]
  },
  {
   "cell_type": "code",
   "execution_count": 29,
   "metadata": {},
   "outputs": [
    {
     "data": {
      "text/html": [
       "<div>\n",
       "<style scoped>\n",
       "    .dataframe tbody tr th:only-of-type {\n",
       "        vertical-align: middle;\n",
       "    }\n",
       "\n",
       "    .dataframe tbody tr th {\n",
       "        vertical-align: top;\n",
       "    }\n",
       "\n",
       "    .dataframe thead th {\n",
       "        text-align: right;\n",
       "    }\n",
       "</style>\n",
       "<table border=\"1\" class=\"dataframe\">\n",
       "  <thead>\n",
       "    <tr style=\"text-align: right;\">\n",
       "      <th></th>\n",
       "      <th>0</th>\n",
       "      <th>1</th>\n",
       "    </tr>\n",
       "  </thead>\n",
       "  <tbody>\n",
       "    <tr>\n",
       "      <th>779</th>\n",
       "      <td>torrelaguna</td>\n",
       "      <td>12.33</td>\n",
       "    </tr>\n",
       "    <tr>\n",
       "      <th>294</th>\n",
       "      <td>daganzo-de-arriba</td>\n",
       "      <td>12.67</td>\n",
       "    </tr>\n",
       "    <tr>\n",
       "      <th>1</th>\n",
       "      <td>ajalvir</td>\n",
       "      <td>9.00</td>\n",
       "    </tr>\n",
       "    <tr>\n",
       "      <th>212</th>\n",
       "      <td>chinchon</td>\n",
       "      <td>16.60</td>\n",
       "    </tr>\n",
       "    <tr>\n",
       "      <th>457</th>\n",
       "      <td>moraleja-de-enmedio</td>\n",
       "      <td>20.57</td>\n",
       "    </tr>\n",
       "  </tbody>\n",
       "</table>\n",
       "</div>"
      ],
      "text/plain": [
       "                       0      1\n",
       "779          torrelaguna  12.33\n",
       "294    daganzo-de-arriba  12.67\n",
       "1                ajalvir   9.00\n",
       "212             chinchon  16.60\n",
       "457  moraleja-de-enmedio  20.57"
      ]
     },
     "execution_count": 29,
     "metadata": {},
     "output_type": "execute_result"
    }
   ],
   "source": [
    "query = '''select m.id_municipio, t.vel_viento from municipios m\n",
    "inner join tiempo t on m.id_municipio = t.id_municipio\n",
    "where t.vel_viento > (select AVG(vel_viento) from tiempo \n",
    "                       where fecha = '2024-08-31');'''\n",
    "\n",
    "conexion = conectar()\n",
    "df_3 = pd.DataFrame(query_fetch(conexion, query))\n",
    "\n",
    "df_3.sample(5)"
   ]
  },
  {
   "cell_type": "markdown",
   "metadata": {},
   "source": [
    "### 4.¿Cuáles son los lugares a menos distancia de la media a Valdemoro donde la velocidad del viento fue menor que el promedio de todos los lugares el 31 de agosto de 2024?\n"
   ]
  },
  {
   "cell_type": "code",
   "execution_count": 30,
   "metadata": {},
   "outputs": [
    {
     "data": {
      "text/html": [
       "<div>\n",
       "<style scoped>\n",
       "    .dataframe tbody tr th:only-of-type {\n",
       "        vertical-align: middle;\n",
       "    }\n",
       "\n",
       "    .dataframe tbody tr th {\n",
       "        vertical-align: top;\n",
       "    }\n",
       "\n",
       "    .dataframe thead th {\n",
       "        text-align: right;\n",
       "    }\n",
       "</style>\n",
       "<table border=\"1\" class=\"dataframe\">\n",
       "  <thead>\n",
       "    <tr style=\"text-align: right;\">\n",
       "      <th></th>\n",
       "      <th>0</th>\n",
       "      <th>1</th>\n",
       "    </tr>\n",
       "  </thead>\n",
       "  <tbody>\n",
       "    <tr>\n",
       "      <th>1</th>\n",
       "      <td>Parque Forestal Cerro del Castillo</td>\n",
       "      <td>580.00</td>\n",
       "    </tr>\n",
       "    <tr>\n",
       "      <th>10</th>\n",
       "      <td>Parque de las Eras</td>\n",
       "      <td>1027.00</td>\n",
       "    </tr>\n",
       "    <tr>\n",
       "      <th>7</th>\n",
       "      <td>Parque Infantil Hojarasca</td>\n",
       "      <td>870.00</td>\n",
       "    </tr>\n",
       "    <tr>\n",
       "      <th>6</th>\n",
       "      <td>Parque Duque de Ahumada</td>\n",
       "      <td>794.00</td>\n",
       "    </tr>\n",
       "    <tr>\n",
       "      <th>3</th>\n",
       "      <td>Parque de Extremadura</td>\n",
       "      <td>628.00</td>\n",
       "    </tr>\n",
       "  </tbody>\n",
       "</table>\n",
       "</div>"
      ],
      "text/plain": [
       "                                     0        1\n",
       "1   Parque Forestal Cerro del Castillo   580.00\n",
       "10                  Parque de las Eras  1027.00\n",
       "7            Parque Infantil Hojarasca   870.00\n",
       "6              Parque Duque de Ahumada   794.00\n",
       "3                Parque de Extremadura   628.00"
      ]
     },
     "execution_count": 30,
     "metadata": {},
     "output_type": "execute_result"
    }
   ],
   "source": [
    "query = '''\n",
    "select nombre, distancia from lugares l \n",
    "where id_municipio in (select id_municipio from tiempo t\n",
    "\t\t\t\t\t\twhere vel_viento < (select avg(vel_viento) from tiempo))\n",
    "and id_municipio = (select id_municipio from municipios m\n",
    "\t\t\t\t\t\twhere m.nombre = 'Valdemoro')\n",
    "and l.distancia < (select avg(distancia) from lugares l\n",
    "\t\t\t\t\t\twhere l.id_municipio=(select id_municipio from municipios m\n",
    "\t\t\t\t\t\twhere m.nombre = 'Valdemoro'))\n",
    "'''\n",
    "\n",
    "conexion = conectar()\n",
    "df_4 = pd.DataFrame(query_fetch(conexion, query))\n",
    "\n",
    "df_4.sample(5)"
   ]
  },
  {
   "cell_type": "markdown",
   "metadata": {},
   "source": [
    "### 5.¿Cuáles son los parques a menos de 2 km de cada localización que tienen una probabilidad de precipitación baja para el mediodia el día 31 de agosto de 2024?\n",
    "\n",
    "Para encontrar locaciones al aire libre con buen clima en el verano."
   ]
  },
  {
   "cell_type": "code",
   "execution_count": 31,
   "metadata": {},
   "outputs": [
    {
     "data": {
      "text/html": [
       "<div>\n",
       "<style scoped>\n",
       "    .dataframe tbody tr th:only-of-type {\n",
       "        vertical-align: middle;\n",
       "    }\n",
       "\n",
       "    .dataframe tbody tr th {\n",
       "        vertical-align: top;\n",
       "    }\n",
       "\n",
       "    .dataframe thead th {\n",
       "        text-align: right;\n",
       "    }\n",
       "</style>\n",
       "<table border=\"1\" class=\"dataframe\">\n",
       "  <thead>\n",
       "    <tr style=\"text-align: right;\">\n",
       "      <th></th>\n",
       "      <th>0</th>\n",
       "      <th>1</th>\n",
       "    </tr>\n",
       "  </thead>\n",
       "  <tbody>\n",
       "    <tr>\n",
       "      <th>806</th>\n",
       "      <td>Parque Antonio Machado</td>\n",
       "      <td>Villanueva del Pardillo</td>\n",
       "    </tr>\n",
       "    <tr>\n",
       "      <th>119</th>\n",
       "      <td>Parque Infantil</td>\n",
       "      <td>Alcorcón</td>\n",
       "    </tr>\n",
       "    <tr>\n",
       "      <th>637</th>\n",
       "      <td>Pinar de las Rozas</td>\n",
       "      <td>Las Rozas de Madrid</td>\n",
       "    </tr>\n",
       "    <tr>\n",
       "      <th>199</th>\n",
       "      <td>Parque de las Avenidas</td>\n",
       "      <td>Buitrago del Lozoya</td>\n",
       "    </tr>\n",
       "    <tr>\n",
       "      <th>425</th>\n",
       "      <td>Estatua de Felipe IV</td>\n",
       "      <td>Madrid</td>\n",
       "    </tr>\n",
       "  </tbody>\n",
       "</table>\n",
       "</div>"
      ],
      "text/plain": [
       "                          0                        1\n",
       "806  Parque Antonio Machado  Villanueva del Pardillo\n",
       "119         Parque Infantil                 Alcorcón\n",
       "637      Pinar de las Rozas      Las Rozas de Madrid\n",
       "199  Parque de las Avenidas      Buitrago del Lozoya\n",
       "425    Estatua de Felipe IV                   Madrid"
      ]
     },
     "execution_count": 31,
     "metadata": {},
     "output_type": "execute_result"
    }
   ],
   "source": [
    "query = '''select l.nombre, m.nombre from lugares l\n",
    "join municipios m on m.id_municipio = l.id_municipio \n",
    "where l.id_municipio in (select t.id_municipio from tiempo t\n",
    "\t\t\t\t\t\twhere t.prob_precip = 'Baja'\n",
    "\t\t\t\t\t\tand t.fecha = '2024-08-31'\n",
    "\t\t\t\t\t\tand t.id_daystage = 'mediodia')\n",
    "and l.distancia < 2000;\n",
    "\t\t\t\t\t'''\n",
    "\n",
    "conexion = conectar()\n",
    "df_5 = pd.DataFrame(query_fetch(conexion, query))\n",
    "\n",
    "df_5.sample(5)"
   ]
  }
 ],
 "metadata": {
  "kernelspec": {
   "display_name": "Python 3",
   "language": "python",
   "name": "python3"
  },
  "language_info": {
   "codemirror_mode": {
    "name": "ipython",
    "version": 3
   },
   "file_extension": ".py",
   "mimetype": "text/x-python",
   "name": "python",
   "nbconvert_exporter": "python",
   "pygments_lexer": "ipython3",
   "version": "3.11.9"
  }
 },
 "nbformat": 4,
 "nbformat_minor": 2
}
